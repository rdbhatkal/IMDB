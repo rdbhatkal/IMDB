{
 "cells": [
  {
   "cell_type": "code",
   "execution_count": 1,
   "id": "52b75e87",
   "metadata": {},
   "outputs": [],
   "source": [
    "#Importing libraries \n",
    "import pandas as pd\n",
    "import numpy as np"
   ]
  },
  {
   "cell_type": "code",
   "execution_count": 2,
   "id": "2686ee31",
   "metadata": {},
   "outputs": [],
   "source": [
    "# Importing file\n",
    "basic = \"https://datasets.imdbws.com/title.basics.tsv.gz\"\n",
    "akas = \"https://datasets.imdbws.com/title.akas.tsv.gz\"\n",
    "rating = \"https://datasets.imdbws.com/title.ratings.tsv.gz\""
   ]
  },
  {
   "cell_type": "code",
   "execution_count": 3,
   "id": "576f9fba",
   "metadata": {},
   "outputs": [],
   "source": [
    "# reading the csv file\n",
    "basics = pd.read_csv(basic,sep='\\t', low_memory=False)"
   ]
  },
  {
   "cell_type": "code",
   "execution_count": 4,
   "id": "c7116212",
   "metadata": {},
   "outputs": [],
   "source": [
    "# reading the csv file\n",
    "aka = pd.read_csv(akas,sep='\\t', low_memory=False)"
   ]
  },
  {
   "cell_type": "code",
   "execution_count": 5,
   "id": "c0a6078e",
   "metadata": {},
   "outputs": [],
   "source": [
    "# reading the csv file\n",
    "rate = pd.read_csv(rating,sep='\\t', low_memory=False)"
   ]
  },
  {
   "cell_type": "markdown",
   "id": "edb2226f",
   "metadata": {},
   "source": [
    "## Cleaning and Handeling duplicate values - Title Basics"
   ]
  },
  {
   "cell_type": "code",
   "execution_count": 6,
   "id": "161e54c5",
   "metadata": {},
   "outputs": [
    {
     "name": "stdout",
     "output_type": "stream",
     "text": [
      "<class 'pandas.core.frame.DataFrame'>\n",
      "RangeIndex: 9169391 entries, 0 to 9169390\n",
      "Data columns (total 9 columns):\n",
      " #   Column          Dtype \n",
      "---  ------          ----- \n",
      " 0   tconst          object\n",
      " 1   titleType       object\n",
      " 2   primaryTitle    object\n",
      " 3   originalTitle   object\n",
      " 4   isAdult         object\n",
      " 5   startYear       object\n",
      " 6   endYear         object\n",
      " 7   runtimeMinutes  object\n",
      " 8   genres          object\n",
      "dtypes: object(9)\n",
      "memory usage: 629.6+ MB\n"
     ]
    }
   ],
   "source": [
    "basics.info()"
   ]
  },
  {
   "cell_type": "code",
   "execution_count": 7,
   "id": "9db1bd4d",
   "metadata": {},
   "outputs": [
    {
     "data": {
      "text/plain": [
       "0"
      ]
     },
     "execution_count": 7,
     "metadata": {},
     "output_type": "execute_result"
    }
   ],
   "source": [
    "# Checking for duplicate values\n",
    "basics.duplicated().sum()"
   ]
  },
  {
   "cell_type": "code",
   "execution_count": 8,
   "id": "817725c4",
   "metadata": {},
   "outputs": [
    {
     "data": {
      "text/plain": [
       "tconst             0\n",
       "titleType          0\n",
       "primaryTitle      10\n",
       "originalTitle     10\n",
       "isAdult            0\n",
       "startYear          0\n",
       "endYear            0\n",
       "runtimeMinutes     0\n",
       "genres            10\n",
       "dtype: int64"
      ]
     },
     "execution_count": 8,
     "metadata": {},
     "output_type": "execute_result"
    }
   ],
   "source": [
    "# Checking null values\n",
    "basics.isna().sum()"
   ]
  },
  {
   "cell_type": "code",
   "execution_count": 9,
   "id": "8b0318d2",
   "metadata": {},
   "outputs": [],
   "source": [
    "# Replacing \\N with na\n",
    "basics.replace({'\\\\N':np.nan}, inplace=True)"
   ]
  },
  {
   "cell_type": "code",
   "execution_count": 10,
   "id": "fda4ac49",
   "metadata": {},
   "outputs": [
    {
     "data": {
      "text/plain": [
       "tconst                  0\n",
       "titleType               0\n",
       "primaryTitle           10\n",
       "originalTitle          10\n",
       "isAdult                 1\n",
       "startYear         1213610\n",
       "endYear           9073997\n",
       "runtimeMinutes    6705858\n",
       "genres             416842\n",
       "dtype: int64"
      ]
     },
     "execution_count": 10,
     "metadata": {},
     "output_type": "execute_result"
    }
   ],
   "source": [
    "# Checking null values\n",
    "basics.isna().sum()"
   ]
  },
  {
   "cell_type": "code",
   "execution_count": 11,
   "id": "a4eb0a83",
   "metadata": {},
   "outputs": [],
   "source": [
    "# Eliminate movies that are null for runtimeMinutes\n",
    "basics.dropna(subset=['runtimeMinutes'],inplace=True)"
   ]
  },
  {
   "cell_type": "code",
   "execution_count": 12,
   "id": "bf05cae7",
   "metadata": {},
   "outputs": [
    {
     "data": {
      "text/plain": [
       "tconst                  0\n",
       "titleType               0\n",
       "primaryTitle            1\n",
       "originalTitle           1\n",
       "isAdult                 1\n",
       "startYear           37657\n",
       "endYear           2416909\n",
       "runtimeMinutes          0\n",
       "genres              67320\n",
       "dtype: int64"
      ]
     },
     "execution_count": 12,
     "metadata": {},
     "output_type": "execute_result"
    }
   ],
   "source": [
    "# Checking null values\n",
    "basics.isna().sum()"
   ]
  },
  {
   "cell_type": "code",
   "execution_count": 13,
   "id": "f87095c1",
   "metadata": {},
   "outputs": [],
   "source": [
    "# Eliminate movies that are null for genre\n",
    "basics.dropna(subset=['genres'],inplace=True)"
   ]
  },
  {
   "cell_type": "code",
   "execution_count": 14,
   "id": "c0574901",
   "metadata": {},
   "outputs": [
    {
     "data": {
      "text/plain": [
       "tconst                  0\n",
       "titleType               0\n",
       "primaryTitle            1\n",
       "originalTitle           1\n",
       "isAdult                 0\n",
       "startYear           36314\n",
       "endYear           2351155\n",
       "runtimeMinutes          0\n",
       "genres                  0\n",
       "dtype: int64"
      ]
     },
     "execution_count": 14,
     "metadata": {},
     "output_type": "execute_result"
    }
   ],
   "source": [
    "# Checking null values\n",
    "basics.isna().sum()"
   ]
  },
  {
   "cell_type": "code",
   "execution_count": 15,
   "id": "09d451ca",
   "metadata": {},
   "outputs": [],
   "source": [
    "newdf = basics.loc[basics['titleType'] == 'movie']"
   ]
  },
  {
   "cell_type": "code",
   "execution_count": 16,
   "id": "e5cb9bf6",
   "metadata": {},
   "outputs": [
    {
     "data": {
      "text/plain": [
       "2017    14186\n",
       "2018    14131\n",
       "2016    13819\n",
       "2019    13798\n",
       "2015    13324\n",
       "        ...  \n",
       "1894        1\n",
       "1899        1\n",
       "1904        1\n",
       "1906        1\n",
       "1896        1\n",
       "Name: startYear, Length: 129, dtype: int64"
      ]
     },
     "execution_count": 16,
     "metadata": {},
     "output_type": "execute_result"
    }
   ],
   "source": [
    "newdf['startYear'].value_counts()"
   ]
  },
  {
   "cell_type": "code",
   "execution_count": 17,
   "id": "087da45a",
   "metadata": {},
   "outputs": [],
   "source": [
    "newdf1 = newdf.loc[(newdf['startYear'] == '2000') \n",
    "                   | (newdf['startYear'] == '2001')\n",
    "                   | (newdf['startYear'] == '2002')\n",
    "                   | (newdf['startYear'] == '2003')\n",
    "                   | (newdf['startYear'] == '2004')\n",
    "                   | (newdf['startYear'] == '2005')\n",
    "                   | (newdf['startYear'] == '2006')\n",
    "                   | (newdf['startYear'] == '2007')\n",
    "                   | (newdf['startYear'] == '2008')\n",
    "                   | (newdf['startYear'] == '2009')\n",
    "                   | (newdf['startYear'] == '2010')\n",
    "                   | (newdf['startYear'] == '2011')\n",
    "                   | (newdf['startYear'] == '2012')\n",
    "                   | (newdf['startYear'] == '2013')\n",
    "                   | (newdf['startYear'] == '2014')\n",
    "                   | (newdf['startYear'] == '2015')\n",
    "                   | (newdf['startYear'] == '2016')\n",
    "                   | (newdf['startYear'] == '2017')\n",
    "                   | (newdf['startYear'] == '2018')\n",
    "                   | (newdf['startYear'] == '2019')\n",
    "                   | (newdf['startYear'] == '2020')\n",
    "                   | (newdf['startYear'] == '2021')\n",
    "                   | (newdf['startYear'] == '2022')]"
   ]
  },
  {
   "cell_type": "code",
   "execution_count": 18,
   "id": "b2303501",
   "metadata": {},
   "outputs": [
    {
     "data": {
      "text/plain": [
       "2017    14186\n",
       "2018    14131\n",
       "2016    13819\n",
       "2019    13798\n",
       "2015    13324\n",
       "2014    12981\n",
       "2013    12272\n",
       "2021    11711\n",
       "2012    11540\n",
       "2020    11253\n",
       "2011    10680\n",
       "2010    10121\n",
       "2009     9268\n",
       "2008     8069\n",
       "2022     7654\n",
       "2007     6885\n",
       "2006     6428\n",
       "2005     5761\n",
       "2004     5129\n",
       "2003     4526\n",
       "2002     4085\n",
       "2001     3813\n",
       "2000     3591\n",
       "Name: startYear, dtype: int64"
      ]
     },
     "execution_count": 18,
     "metadata": {},
     "output_type": "execute_result"
    }
   ],
   "source": [
    "newdf1['startYear'].value_counts()"
   ]
  },
  {
   "cell_type": "code",
   "execution_count": 19,
   "id": "32c88acb",
   "metadata": {},
   "outputs": [
    {
     "name": "stdout",
     "output_type": "stream",
     "text": [
      "<class 'pandas.core.frame.DataFrame'>\n",
      "Int64Index: 215025 entries, 13079 to 9169341\n",
      "Data columns (total 9 columns):\n",
      " #   Column          Non-Null Count   Dtype \n",
      "---  ------          --------------   ----- \n",
      " 0   tconst          215025 non-null  object\n",
      " 1   titleType       215025 non-null  object\n",
      " 2   primaryTitle    215025 non-null  object\n",
      " 3   originalTitle   215025 non-null  object\n",
      " 4   isAdult         215025 non-null  object\n",
      " 5   startYear       215025 non-null  object\n",
      " 6   endYear         0 non-null       object\n",
      " 7   runtimeMinutes  215025 non-null  object\n",
      " 8   genres          215025 non-null  object\n",
      "dtypes: object(9)\n",
      "memory usage: 16.4+ MB\n"
     ]
    }
   ],
   "source": [
    "newdf1.info()"
   ]
  },
  {
   "cell_type": "code",
   "execution_count": 20,
   "id": "99366600",
   "metadata": {},
   "outputs": [
    {
     "name": "stderr",
     "output_type": "stream",
     "text": [
      "C:\\Users\\rdbha\\AppData\\Local\\Temp\\ipykernel_17836\\3958138749.py:2: SettingWithCopyWarning: \n",
      "A value is trying to be set on a copy of a slice from a DataFrame.\n",
      "Try using .loc[row_indexer,col_indexer] = value instead\n",
      "\n",
      "See the caveats in the documentation: https://pandas.pydata.org/pandas-docs/stable/user_guide/indexing.html#returning-a-view-versus-a-copy\n",
      "  newdf1['startYear'] = newdf1['startYear'].astype(int)\n"
     ]
    }
   ],
   "source": [
    "# Now we can change the startYear column to int\n",
    "newdf1['startYear'] = newdf1['startYear'].astype(int)"
   ]
  },
  {
   "cell_type": "code",
   "execution_count": 21,
   "id": "b5056a88",
   "metadata": {},
   "outputs": [
    {
     "data": {
      "text/plain": [
       "Documentary                    50766\n",
       "Drama                          34722\n",
       "Comedy                         13098\n",
       "Comedy,Drama                    6250\n",
       "Horror                          5598\n",
       "                               ...  \n",
       "Family,Musical,Sport               1\n",
       "Comedy,Game-Show                   1\n",
       "Horror,Music,Mystery               1\n",
       "Documentary,Sci-Fi,Thriller        1\n",
       "Crime,Fantasy,Sci-Fi               1\n",
       "Name: genres, Length: 1186, dtype: int64"
      ]
     },
     "execution_count": 21,
     "metadata": {},
     "output_type": "execute_result"
    }
   ],
   "source": [
    "newdf1['genres'].value_counts()"
   ]
  },
  {
   "cell_type": "code",
   "execution_count": 22,
   "id": "43dd5c9e",
   "metadata": {},
   "outputs": [
    {
     "data": {
      "text/plain": [
       "tconst            object\n",
       "titleType         object\n",
       "primaryTitle      object\n",
       "originalTitle     object\n",
       "isAdult           object\n",
       "startYear          int32\n",
       "endYear           object\n",
       "runtimeMinutes    object\n",
       "genres            object\n",
       "dtype: object"
      ]
     },
     "execution_count": 22,
     "metadata": {},
     "output_type": "execute_result"
    }
   ],
   "source": [
    "newdf1.dtypes"
   ]
  },
  {
   "cell_type": "code",
   "execution_count": 23,
   "id": "0434ecda",
   "metadata": {},
   "outputs": [],
   "source": [
    "# Exclude movies that are included in the documentary category.\n",
    "is_documentary = newdf1['genres'].str.contains('documentary',case=False)\n",
    "newdf1 = newdf1[~is_documentary]\n"
   ]
  },
  {
   "cell_type": "code",
   "execution_count": 24,
   "id": "3f2b9a72",
   "metadata": {},
   "outputs": [
    {
     "data": {
      "text/plain": [
       "Drama                        34722\n",
       "Comedy                       13098\n",
       "Comedy,Drama                  6250\n",
       "Horror                        5598\n",
       "Drama,Romance                 4163\n",
       "                             ...  \n",
       "Biography,Family,Mystery         1\n",
       "Biography,Music,Mystery          1\n",
       "Crime,Music,Mystery              1\n",
       "Comedy,Reality-TV,Romance        1\n",
       "Crime,Fantasy,Sci-Fi             1\n",
       "Name: genres, Length: 967, dtype: int64"
      ]
     },
     "execution_count": 24,
     "metadata": {},
     "output_type": "execute_result"
    }
   ],
   "source": [
    "newdf1['genres'].value_counts()"
   ]
  },
  {
   "cell_type": "markdown",
   "id": "2cd39a4b",
   "metadata": {},
   "source": [
    "## Cleaning and Handeling duplicate values - AKA"
   ]
  },
  {
   "cell_type": "code",
   "execution_count": 25,
   "id": "33a374bb",
   "metadata": {},
   "outputs": [
    {
     "name": "stdout",
     "output_type": "stream",
     "text": [
      "<class 'pandas.core.frame.DataFrame'>\n",
      "RangeIndex: 32923519 entries, 0 to 32923518\n",
      "Data columns (total 8 columns):\n",
      " #   Column           Dtype \n",
      "---  ------           ----- \n",
      " 0   titleId          object\n",
      " 1   ordering         int64 \n",
      " 2   title            object\n",
      " 3   region           object\n",
      " 4   language         object\n",
      " 5   types            object\n",
      " 6   attributes       object\n",
      " 7   isOriginalTitle  object\n",
      "dtypes: int64(1), object(7)\n",
      "memory usage: 2.0+ GB\n"
     ]
    }
   ],
   "source": [
    "aka.info()"
   ]
  },
  {
   "cell_type": "code",
   "execution_count": 26,
   "id": "ef46fa96",
   "metadata": {},
   "outputs": [],
   "source": [
    "akadf = aka.loc[aka['region'] == 'US']"
   ]
  },
  {
   "cell_type": "code",
   "execution_count": 27,
   "id": "524a4277",
   "metadata": {},
   "outputs": [
    {
     "name": "stdout",
     "output_type": "stream",
     "text": [
      "<class 'pandas.core.frame.DataFrame'>\n",
      "Int64Index: 1344052 entries, 5 to 32923263\n",
      "Data columns (total 8 columns):\n",
      " #   Column           Non-Null Count    Dtype \n",
      "---  ------           --------------    ----- \n",
      " 0   titleId          1344052 non-null  object\n",
      " 1   ordering         1344052 non-null  int64 \n",
      " 2   title            1344052 non-null  object\n",
      " 3   region           1344052 non-null  object\n",
      " 4   language         1344052 non-null  object\n",
      " 5   types            1344052 non-null  object\n",
      " 6   attributes       1344052 non-null  object\n",
      " 7   isOriginalTitle  1344052 non-null  object\n",
      "dtypes: int64(1), object(7)\n",
      "memory usage: 92.3+ MB\n"
     ]
    }
   ],
   "source": [
    "akadf.info()"
   ]
  },
  {
   "cell_type": "code",
   "execution_count": 28,
   "id": "b12cd121",
   "metadata": {},
   "outputs": [
    {
     "data": {
      "text/plain": [
       "titleId            0\n",
       "ordering           0\n",
       "title              0\n",
       "region             0\n",
       "language           0\n",
       "types              0\n",
       "attributes         0\n",
       "isOriginalTitle    0\n",
       "dtype: int64"
      ]
     },
     "execution_count": 28,
     "metadata": {},
     "output_type": "execute_result"
    }
   ],
   "source": [
    "# Checking null values\n",
    "akadf.isna().sum()"
   ]
  },
  {
   "cell_type": "code",
   "execution_count": 29,
   "id": "1ef85dee",
   "metadata": {},
   "outputs": [
    {
     "name": "stderr",
     "output_type": "stream",
     "text": [
      "C:\\Users\\rdbha\\AppData\\Local\\Temp\\ipykernel_17836\\3328445471.py:2: SettingWithCopyWarning: \n",
      "A value is trying to be set on a copy of a slice from a DataFrame\n",
      "\n",
      "See the caveats in the documentation: https://pandas.pydata.org/pandas-docs/stable/user_guide/indexing.html#returning-a-view-versus-a-copy\n",
      "  akadf.replace({'\\\\N':np.nan}, inplace=True)\n"
     ]
    }
   ],
   "source": [
    "# Replacing \\N with na\n",
    "akadf.replace({'\\\\N':np.nan}, inplace=True)"
   ]
  },
  {
   "cell_type": "code",
   "execution_count": 30,
   "id": "55b3bf0d",
   "metadata": {},
   "outputs": [
    {
     "data": {
      "text/plain": [
       "titleId                  0\n",
       "ordering                 0\n",
       "title                    0\n",
       "region                   0\n",
       "language           1340366\n",
       "types               380487\n",
       "attributes         1299257\n",
       "isOriginalTitle       1375\n",
       "dtype: int64"
      ]
     },
     "execution_count": 30,
     "metadata": {},
     "output_type": "execute_result"
    }
   ],
   "source": [
    "# Checking null values\n",
    "akadf.isna().sum()"
   ]
  },
  {
   "cell_type": "markdown",
   "id": "c1aa937e",
   "metadata": {},
   "source": [
    "## Cleaning and Handeling duplicate values - Ratings"
   ]
  },
  {
   "cell_type": "code",
   "execution_count": 31,
   "id": "ef2f1dd2",
   "metadata": {},
   "outputs": [],
   "source": [
    "# Replacing \\N with na\n",
    "rate.replace({'\\\\N':np.nan}, inplace=True)"
   ]
  },
  {
   "cell_type": "code",
   "execution_count": 32,
   "id": "62cec7f7",
   "metadata": {},
   "outputs": [
    {
     "data": {
      "text/plain": [
       "tconst           0\n",
       "averageRating    0\n",
       "numVotes         0\n",
       "dtype: int64"
      ]
     },
     "execution_count": 32,
     "metadata": {},
     "output_type": "execute_result"
    }
   ],
   "source": [
    "rate.isna().sum()"
   ]
  },
  {
   "cell_type": "markdown",
   "id": "00b9ae47",
   "metadata": {},
   "source": [
    "## Filtering one dataframe based on another"
   ]
  },
  {
   "cell_type": "code",
   "execution_count": 33,
   "id": "e762b2e0",
   "metadata": {},
   "outputs": [
    {
     "data": {
      "text/plain": [
       "34790       True\n",
       "61090       True\n",
       "67636       True\n",
       "77930      False\n",
       "86767       True\n",
       "           ...  \n",
       "9169063     True\n",
       "9169072     True\n",
       "9169111    False\n",
       "9169156     True\n",
       "9169240    False\n",
       "Name: tconst, Length: 142337, dtype: bool"
      ]
     },
     "execution_count": 33,
     "metadata": {},
     "output_type": "execute_result"
    }
   ],
   "source": [
    "## Filtering basic dataframe based on aka dataframe\n",
    "\n",
    "keepers =newdf1['tconst'].isin(akadf['titleId'])\n",
    "keepers"
   ]
  },
  {
   "cell_type": "code",
   "execution_count": 34,
   "id": "5b3dba6a",
   "metadata": {},
   "outputs": [
    {
     "data": {
      "text/plain": [
       "0           True\n",
       "1           True\n",
       "2          False\n",
       "3          False\n",
       "4           True\n",
       "           ...  \n",
       "1256529    False\n",
       "1256530     True\n",
       "1256531    False\n",
       "1256532    False\n",
       "1256533    False\n",
       "Name: tconst, Length: 1256534, dtype: bool"
      ]
     },
     "execution_count": 34,
     "metadata": {},
     "output_type": "execute_result"
    }
   ],
   "source": [
    "## Filtering rate dataframe based on aka dataframe\n",
    "\n",
    "keepers1 =rate['tconst'].isin(akadf['titleId'])\n",
    "keepers1"
   ]
  },
  {
   "cell_type": "code",
   "execution_count": 35,
   "id": "bb0a5563",
   "metadata": {},
   "outputs": [
    {
     "data": {
      "text/html": [
       "<div>\n",
       "<style scoped>\n",
       "    .dataframe tbody tr th:only-of-type {\n",
       "        vertical-align: middle;\n",
       "    }\n",
       "\n",
       "    .dataframe tbody tr th {\n",
       "        vertical-align: top;\n",
       "    }\n",
       "\n",
       "    .dataframe thead th {\n",
       "        text-align: right;\n",
       "    }\n",
       "</style>\n",
       "<table border=\"1\" class=\"dataframe\">\n",
       "  <thead>\n",
       "    <tr style=\"text-align: right;\">\n",
       "      <th></th>\n",
       "      <th>tconst</th>\n",
       "      <th>titleType</th>\n",
       "      <th>primaryTitle</th>\n",
       "      <th>originalTitle</th>\n",
       "      <th>isAdult</th>\n",
       "      <th>startYear</th>\n",
       "      <th>endYear</th>\n",
       "      <th>runtimeMinutes</th>\n",
       "      <th>genres</th>\n",
       "    </tr>\n",
       "  </thead>\n",
       "  <tbody>\n",
       "    <tr>\n",
       "      <th>34790</th>\n",
       "      <td>tt0035423</td>\n",
       "      <td>movie</td>\n",
       "      <td>Kate &amp; Leopold</td>\n",
       "      <td>Kate &amp; Leopold</td>\n",
       "      <td>0</td>\n",
       "      <td>2001</td>\n",
       "      <td>NaN</td>\n",
       "      <td>118</td>\n",
       "      <td>Comedy,Fantasy,Romance</td>\n",
       "    </tr>\n",
       "    <tr>\n",
       "      <th>61090</th>\n",
       "      <td>tt0062336</td>\n",
       "      <td>movie</td>\n",
       "      <td>The Tango of the Widower and Its Distorting Mi...</td>\n",
       "      <td>El Tango del Viudo y Su Espejo Deformante</td>\n",
       "      <td>0</td>\n",
       "      <td>2020</td>\n",
       "      <td>NaN</td>\n",
       "      <td>70</td>\n",
       "      <td>Drama</td>\n",
       "    </tr>\n",
       "    <tr>\n",
       "      <th>67636</th>\n",
       "      <td>tt0069049</td>\n",
       "      <td>movie</td>\n",
       "      <td>The Other Side of the Wind</td>\n",
       "      <td>The Other Side of the Wind</td>\n",
       "      <td>0</td>\n",
       "      <td>2018</td>\n",
       "      <td>NaN</td>\n",
       "      <td>122</td>\n",
       "      <td>Drama</td>\n",
       "    </tr>\n",
       "    <tr>\n",
       "      <th>86767</th>\n",
       "      <td>tt0088751</td>\n",
       "      <td>movie</td>\n",
       "      <td>The Naked Monster</td>\n",
       "      <td>The Naked Monster</td>\n",
       "      <td>0</td>\n",
       "      <td>2005</td>\n",
       "      <td>NaN</td>\n",
       "      <td>100</td>\n",
       "      <td>Comedy,Horror,Sci-Fi</td>\n",
       "    </tr>\n",
       "    <tr>\n",
       "      <th>92732</th>\n",
       "      <td>tt0094859</td>\n",
       "      <td>movie</td>\n",
       "      <td>Chief Zabu</td>\n",
       "      <td>Chief Zabu</td>\n",
       "      <td>0</td>\n",
       "      <td>2016</td>\n",
       "      <td>NaN</td>\n",
       "      <td>74</td>\n",
       "      <td>Comedy</td>\n",
       "    </tr>\n",
       "    <tr>\n",
       "      <th>...</th>\n",
       "      <td>...</td>\n",
       "      <td>...</td>\n",
       "      <td>...</td>\n",
       "      <td>...</td>\n",
       "      <td>...</td>\n",
       "      <td>...</td>\n",
       "      <td>...</td>\n",
       "      <td>...</td>\n",
       "      <td>...</td>\n",
       "    </tr>\n",
       "    <tr>\n",
       "      <th>9168527</th>\n",
       "      <td>tt9914942</td>\n",
       "      <td>movie</td>\n",
       "      <td>Life Without Sara Amat</td>\n",
       "      <td>La vida sense la Sara Amat</td>\n",
       "      <td>0</td>\n",
       "      <td>2019</td>\n",
       "      <td>NaN</td>\n",
       "      <td>74</td>\n",
       "      <td>Drama</td>\n",
       "    </tr>\n",
       "    <tr>\n",
       "      <th>9168923</th>\n",
       "      <td>tt9915872</td>\n",
       "      <td>movie</td>\n",
       "      <td>The Last White Witch</td>\n",
       "      <td>My Girlfriend is a Wizard</td>\n",
       "      <td>0</td>\n",
       "      <td>2019</td>\n",
       "      <td>NaN</td>\n",
       "      <td>97</td>\n",
       "      <td>Comedy,Drama,Fantasy</td>\n",
       "    </tr>\n",
       "    <tr>\n",
       "      <th>9169063</th>\n",
       "      <td>tt9916170</td>\n",
       "      <td>movie</td>\n",
       "      <td>The Rehearsal</td>\n",
       "      <td>O Ensaio</td>\n",
       "      <td>0</td>\n",
       "      <td>2019</td>\n",
       "      <td>NaN</td>\n",
       "      <td>51</td>\n",
       "      <td>Drama</td>\n",
       "    </tr>\n",
       "    <tr>\n",
       "      <th>9169072</th>\n",
       "      <td>tt9916190</td>\n",
       "      <td>movie</td>\n",
       "      <td>Safeguard</td>\n",
       "      <td>Safeguard</td>\n",
       "      <td>0</td>\n",
       "      <td>2020</td>\n",
       "      <td>NaN</td>\n",
       "      <td>95</td>\n",
       "      <td>Action,Adventure,Thriller</td>\n",
       "    </tr>\n",
       "    <tr>\n",
       "      <th>9169156</th>\n",
       "      <td>tt9916362</td>\n",
       "      <td>movie</td>\n",
       "      <td>Coven</td>\n",
       "      <td>Akelarre</td>\n",
       "      <td>0</td>\n",
       "      <td>2020</td>\n",
       "      <td>NaN</td>\n",
       "      <td>92</td>\n",
       "      <td>Drama,History</td>\n",
       "    </tr>\n",
       "  </tbody>\n",
       "</table>\n",
       "<p>82250 rows × 9 columns</p>\n",
       "</div>"
      ],
      "text/plain": [
       "            tconst titleType  \\\n",
       "34790    tt0035423     movie   \n",
       "61090    tt0062336     movie   \n",
       "67636    tt0069049     movie   \n",
       "86767    tt0088751     movie   \n",
       "92732    tt0094859     movie   \n",
       "...            ...       ...   \n",
       "9168527  tt9914942     movie   \n",
       "9168923  tt9915872     movie   \n",
       "9169063  tt9916170     movie   \n",
       "9169072  tt9916190     movie   \n",
       "9169156  tt9916362     movie   \n",
       "\n",
       "                                              primaryTitle  \\\n",
       "34790                                       Kate & Leopold   \n",
       "61090    The Tango of the Widower and Its Distorting Mi...   \n",
       "67636                           The Other Side of the Wind   \n",
       "86767                                    The Naked Monster   \n",
       "92732                                           Chief Zabu   \n",
       "...                                                    ...   \n",
       "9168527                             Life Without Sara Amat   \n",
       "9168923                               The Last White Witch   \n",
       "9169063                                      The Rehearsal   \n",
       "9169072                                          Safeguard   \n",
       "9169156                                              Coven   \n",
       "\n",
       "                                     originalTitle isAdult  startYear endYear  \\\n",
       "34790                               Kate & Leopold       0       2001     NaN   \n",
       "61090    El Tango del Viudo y Su Espejo Deformante       0       2020     NaN   \n",
       "67636                   The Other Side of the Wind       0       2018     NaN   \n",
       "86767                            The Naked Monster       0       2005     NaN   \n",
       "92732                                   Chief Zabu       0       2016     NaN   \n",
       "...                                            ...     ...        ...     ...   \n",
       "9168527                 La vida sense la Sara Amat       0       2019     NaN   \n",
       "9168923                  My Girlfriend is a Wizard       0       2019     NaN   \n",
       "9169063                                   O Ensaio       0       2019     NaN   \n",
       "9169072                                  Safeguard       0       2020     NaN   \n",
       "9169156                                   Akelarre       0       2020     NaN   \n",
       "\n",
       "        runtimeMinutes                     genres  \n",
       "34790              118     Comedy,Fantasy,Romance  \n",
       "61090               70                      Drama  \n",
       "67636              122                      Drama  \n",
       "86767              100       Comedy,Horror,Sci-Fi  \n",
       "92732               74                     Comedy  \n",
       "...                ...                        ...  \n",
       "9168527             74                      Drama  \n",
       "9168923             97       Comedy,Drama,Fantasy  \n",
       "9169063             51                      Drama  \n",
       "9169072             95  Action,Adventure,Thriller  \n",
       "9169156             92              Drama,History  \n",
       "\n",
       "[82250 rows x 9 columns]"
      ]
     },
     "execution_count": 35,
     "metadata": {},
     "output_type": "execute_result"
    }
   ],
   "source": [
    "# Filtered basic dataframe\n",
    "newdf1 = newdf1[keepers]\n",
    "newdf1\n"
   ]
  },
  {
   "cell_type": "code",
   "execution_count": 36,
   "id": "27fefce2",
   "metadata": {},
   "outputs": [
    {
     "data": {
      "text/html": [
       "<div>\n",
       "<style scoped>\n",
       "    .dataframe tbody tr th:only-of-type {\n",
       "        vertical-align: middle;\n",
       "    }\n",
       "\n",
       "    .dataframe tbody tr th {\n",
       "        vertical-align: top;\n",
       "    }\n",
       "\n",
       "    .dataframe thead th {\n",
       "        text-align: right;\n",
       "    }\n",
       "</style>\n",
       "<table border=\"1\" class=\"dataframe\">\n",
       "  <thead>\n",
       "    <tr style=\"text-align: right;\">\n",
       "      <th></th>\n",
       "      <th>tconst</th>\n",
       "      <th>averageRating</th>\n",
       "      <th>numVotes</th>\n",
       "    </tr>\n",
       "  </thead>\n",
       "  <tbody>\n",
       "    <tr>\n",
       "      <th>0</th>\n",
       "      <td>tt0000001</td>\n",
       "      <td>5.7</td>\n",
       "      <td>1905</td>\n",
       "    </tr>\n",
       "    <tr>\n",
       "      <th>1</th>\n",
       "      <td>tt0000002</td>\n",
       "      <td>5.8</td>\n",
       "      <td>256</td>\n",
       "    </tr>\n",
       "    <tr>\n",
       "      <th>4</th>\n",
       "      <td>tt0000005</td>\n",
       "      <td>6.2</td>\n",
       "      <td>2519</td>\n",
       "    </tr>\n",
       "    <tr>\n",
       "      <th>5</th>\n",
       "      <td>tt0000006</td>\n",
       "      <td>5.1</td>\n",
       "      <td>173</td>\n",
       "    </tr>\n",
       "    <tr>\n",
       "      <th>6</th>\n",
       "      <td>tt0000007</td>\n",
       "      <td>5.4</td>\n",
       "      <td>783</td>\n",
       "    </tr>\n",
       "    <tr>\n",
       "      <th>...</th>\n",
       "      <td>...</td>\n",
       "      <td>...</td>\n",
       "      <td>...</td>\n",
       "    </tr>\n",
       "    <tr>\n",
       "      <th>1256504</th>\n",
       "      <td>tt9916204</td>\n",
       "      <td>8.1</td>\n",
       "      <td>242</td>\n",
       "    </tr>\n",
       "    <tr>\n",
       "      <th>1256511</th>\n",
       "      <td>tt9916348</td>\n",
       "      <td>8.5</td>\n",
       "      <td>17</td>\n",
       "    </tr>\n",
       "    <tr>\n",
       "      <th>1256512</th>\n",
       "      <td>tt9916362</td>\n",
       "      <td>6.4</td>\n",
       "      <td>4835</td>\n",
       "    </tr>\n",
       "    <tr>\n",
       "      <th>1256516</th>\n",
       "      <td>tt9916428</td>\n",
       "      <td>3.8</td>\n",
       "      <td>14</td>\n",
       "    </tr>\n",
       "    <tr>\n",
       "      <th>1256530</th>\n",
       "      <td>tt9916720</td>\n",
       "      <td>5.2</td>\n",
       "      <td>248</td>\n",
       "    </tr>\n",
       "  </tbody>\n",
       "</table>\n",
       "<p>474688 rows × 3 columns</p>\n",
       "</div>"
      ],
      "text/plain": [
       "            tconst  averageRating  numVotes\n",
       "0        tt0000001            5.7      1905\n",
       "1        tt0000002            5.8       256\n",
       "4        tt0000005            6.2      2519\n",
       "5        tt0000006            5.1       173\n",
       "6        tt0000007            5.4       783\n",
       "...            ...            ...       ...\n",
       "1256504  tt9916204            8.1       242\n",
       "1256511  tt9916348            8.5        17\n",
       "1256512  tt9916362            6.4      4835\n",
       "1256516  tt9916428            3.8        14\n",
       "1256530  tt9916720            5.2       248\n",
       "\n",
       "[474688 rows x 3 columns]"
      ]
     },
     "execution_count": 36,
     "metadata": {},
     "output_type": "execute_result"
    }
   ],
   "source": [
    "# Filtered basic dataframe\n",
    "rate1 = rate[keepers1]\n",
    "rate1\n"
   ]
  },
  {
   "cell_type": "code",
   "execution_count": 39,
   "id": "8ce6fa6f",
   "metadata": {},
   "outputs": [
    {
     "name": "stdout",
     "output_type": "stream",
     "text": [
      "<class 'pandas.core.frame.DataFrame'>\n",
      "Int64Index: 82250 entries, 34790 to 9169156\n",
      "Data columns (total 9 columns):\n",
      " #   Column          Non-Null Count  Dtype \n",
      "---  ------          --------------  ----- \n",
      " 0   tconst          82250 non-null  object\n",
      " 1   titleType       82250 non-null  object\n",
      " 2   primaryTitle    82250 non-null  object\n",
      " 3   originalTitle   82250 non-null  object\n",
      " 4   isAdult         82250 non-null  object\n",
      " 5   startYear       82250 non-null  int32 \n",
      " 6   endYear         0 non-null      object\n",
      " 7   runtimeMinutes  82250 non-null  object\n",
      " 8   genres          82250 non-null  object\n",
      "dtypes: int32(1), object(8)\n",
      "memory usage: 6.0+ MB\n"
     ]
    }
   ],
   "source": [
    "# basics table info\n",
    "newdf1.info()"
   ]
  },
  {
   "cell_type": "code",
   "execution_count": 40,
   "id": "d6f1176a",
   "metadata": {},
   "outputs": [
    {
     "data": {
      "text/plain": [
       "tconst            object\n",
       "titleType         object\n",
       "primaryTitle      object\n",
       "originalTitle     object\n",
       "isAdult           object\n",
       "startYear          int32\n",
       "endYear           object\n",
       "runtimeMinutes    object\n",
       "genres            object\n",
       "dtype: object"
      ]
     },
     "execution_count": 40,
     "metadata": {},
     "output_type": "execute_result"
    }
   ],
   "source": [
    "# Lets look at datatypes\n",
    "newdf1.dtypes"
   ]
  },
  {
   "cell_type": "code",
   "execution_count": 41,
   "id": "92cbc5ce",
   "metadata": {},
   "outputs": [
    {
     "name": "stdout",
     "output_type": "stream",
     "text": [
      "<class 'pandas.core.frame.DataFrame'>\n",
      "Int64Index: 1344052 entries, 5 to 32923263\n",
      "Data columns (total 8 columns):\n",
      " #   Column           Non-Null Count    Dtype \n",
      "---  ------           --------------    ----- \n",
      " 0   titleId          1344052 non-null  object\n",
      " 1   ordering         1344052 non-null  int64 \n",
      " 2   title            1344052 non-null  object\n",
      " 3   region           1344052 non-null  object\n",
      " 4   language         3686 non-null     object\n",
      " 5   types            963565 non-null   object\n",
      " 6   attributes       44795 non-null    object\n",
      " 7   isOriginalTitle  1342677 non-null  object\n",
      "dtypes: int64(1), object(7)\n",
      "memory usage: 92.3+ MB\n"
     ]
    }
   ],
   "source": [
    "# aka table info\n",
    "\n",
    "akadf.info()"
   ]
  },
  {
   "cell_type": "code",
   "execution_count": 42,
   "id": "2374a151",
   "metadata": {},
   "outputs": [
    {
     "data": {
      "text/plain": [
       "titleId            object\n",
       "ordering            int64\n",
       "title              object\n",
       "region             object\n",
       "language           object\n",
       "types              object\n",
       "attributes         object\n",
       "isOriginalTitle    object\n",
       "dtype: object"
      ]
     },
     "execution_count": 42,
     "metadata": {},
     "output_type": "execute_result"
    }
   ],
   "source": [
    "# Lets look at datatypes\n",
    "akadf.dtypes"
   ]
  },
  {
   "cell_type": "code",
   "execution_count": 43,
   "id": "535331ef",
   "metadata": {},
   "outputs": [
    {
     "name": "stdout",
     "output_type": "stream",
     "text": [
      "<class 'pandas.core.frame.DataFrame'>\n",
      "Int64Index: 474688 entries, 0 to 1256530\n",
      "Data columns (total 3 columns):\n",
      " #   Column         Non-Null Count   Dtype  \n",
      "---  ------         --------------   -----  \n",
      " 0   tconst         474688 non-null  object \n",
      " 1   averageRating  474688 non-null  float64\n",
      " 2   numVotes       474688 non-null  int64  \n",
      "dtypes: float64(1), int64(1), object(1)\n",
      "memory usage: 14.5+ MB\n"
     ]
    }
   ],
   "source": [
    "# rate table info\n",
    "rate1.info()"
   ]
  },
  {
   "cell_type": "code",
   "execution_count": 47,
   "id": "1762f1d9",
   "metadata": {},
   "outputs": [
    {
     "data": {
      "text/plain": [
       "tconst            object\n",
       "averageRating    float64\n",
       "numVotes           int64\n",
       "dtype: object"
      ]
     },
     "execution_count": 47,
     "metadata": {},
     "output_type": "execute_result"
    }
   ],
   "source": [
    "# Lets look at datatypes\n",
    "rate1.dtypes"
   ]
  },
  {
   "cell_type": "code",
   "execution_count": 45,
   "id": "eee91262",
   "metadata": {},
   "outputs": [
    {
     "data": {
      "text/plain": [
       "[]"
      ]
     },
     "execution_count": 45,
     "metadata": {},
     "output_type": "execute_result"
    }
   ],
   "source": [
    "# example making new folder with os\n",
    "import os\n",
    "os.makedirs('Data/',exist_ok=True) \n",
    "# Confirm folder created\n",
    "os.listdir(\"Data/\")\n"
   ]
  },
  {
   "cell_type": "code",
   "execution_count": 46,
   "id": "e2d68697",
   "metadata": {},
   "outputs": [],
   "source": [
    "## Save current dataframe to file.\n",
    "newdf1.to_csv(\"Data/title_basics.csv.gz\",compression='gzip',index=False)"
   ]
  },
  {
   "cell_type": "code",
   "execution_count": 48,
   "id": "b2f96ca8",
   "metadata": {},
   "outputs": [],
   "source": [
    "## Save current dataframe to file.\n",
    "akadf.to_csv(\"Data/title_akas.csv.gz\",compression='gzip',index=False)"
   ]
  },
  {
   "cell_type": "code",
   "execution_count": 49,
   "id": "25de3042",
   "metadata": {},
   "outputs": [],
   "source": [
    "## Save current dataframe to file.\n",
    "rate1.to_csv(\"Data/title_rating.csv.gz\",compression='gzip',index=False)"
   ]
  },
  {
   "cell_type": "code",
   "execution_count": 50,
   "id": "ae99c90d",
   "metadata": {},
   "outputs": [
    {
     "data": {
      "text/html": [
       "<div>\n",
       "<style scoped>\n",
       "    .dataframe tbody tr th:only-of-type {\n",
       "        vertical-align: middle;\n",
       "    }\n",
       "\n",
       "    .dataframe tbody tr th {\n",
       "        vertical-align: top;\n",
       "    }\n",
       "\n",
       "    .dataframe thead th {\n",
       "        text-align: right;\n",
       "    }\n",
       "</style>\n",
       "<table border=\"1\" class=\"dataframe\">\n",
       "  <thead>\n",
       "    <tr style=\"text-align: right;\">\n",
       "      <th></th>\n",
       "      <th>tconst</th>\n",
       "      <th>titleType</th>\n",
       "      <th>primaryTitle</th>\n",
       "      <th>originalTitle</th>\n",
       "      <th>isAdult</th>\n",
       "      <th>startYear</th>\n",
       "      <th>endYear</th>\n",
       "      <th>runtimeMinutes</th>\n",
       "      <th>genres</th>\n",
       "    </tr>\n",
       "  </thead>\n",
       "  <tbody>\n",
       "    <tr>\n",
       "      <th>0</th>\n",
       "      <td>tt0035423</td>\n",
       "      <td>movie</td>\n",
       "      <td>Kate &amp; Leopold</td>\n",
       "      <td>Kate &amp; Leopold</td>\n",
       "      <td>0</td>\n",
       "      <td>2001</td>\n",
       "      <td>NaN</td>\n",
       "      <td>118</td>\n",
       "      <td>Comedy,Fantasy,Romance</td>\n",
       "    </tr>\n",
       "    <tr>\n",
       "      <th>1</th>\n",
       "      <td>tt0062336</td>\n",
       "      <td>movie</td>\n",
       "      <td>The Tango of the Widower and Its Distorting Mi...</td>\n",
       "      <td>El Tango del Viudo y Su Espejo Deformante</td>\n",
       "      <td>0</td>\n",
       "      <td>2020</td>\n",
       "      <td>NaN</td>\n",
       "      <td>70</td>\n",
       "      <td>Drama</td>\n",
       "    </tr>\n",
       "    <tr>\n",
       "      <th>2</th>\n",
       "      <td>tt0069049</td>\n",
       "      <td>movie</td>\n",
       "      <td>The Other Side of the Wind</td>\n",
       "      <td>The Other Side of the Wind</td>\n",
       "      <td>0</td>\n",
       "      <td>2018</td>\n",
       "      <td>NaN</td>\n",
       "      <td>122</td>\n",
       "      <td>Drama</td>\n",
       "    </tr>\n",
       "    <tr>\n",
       "      <th>3</th>\n",
       "      <td>tt0088751</td>\n",
       "      <td>movie</td>\n",
       "      <td>The Naked Monster</td>\n",
       "      <td>The Naked Monster</td>\n",
       "      <td>0</td>\n",
       "      <td>2005</td>\n",
       "      <td>NaN</td>\n",
       "      <td>100</td>\n",
       "      <td>Comedy,Horror,Sci-Fi</td>\n",
       "    </tr>\n",
       "    <tr>\n",
       "      <th>4</th>\n",
       "      <td>tt0094859</td>\n",
       "      <td>movie</td>\n",
       "      <td>Chief Zabu</td>\n",
       "      <td>Chief Zabu</td>\n",
       "      <td>0</td>\n",
       "      <td>2016</td>\n",
       "      <td>NaN</td>\n",
       "      <td>74</td>\n",
       "      <td>Comedy</td>\n",
       "    </tr>\n",
       "  </tbody>\n",
       "</table>\n",
       "</div>"
      ],
      "text/plain": [
       "      tconst titleType                                       primaryTitle  \\\n",
       "0  tt0035423     movie                                     Kate & Leopold   \n",
       "1  tt0062336     movie  The Tango of the Widower and Its Distorting Mi...   \n",
       "2  tt0069049     movie                         The Other Side of the Wind   \n",
       "3  tt0088751     movie                                  The Naked Monster   \n",
       "4  tt0094859     movie                                         Chief Zabu   \n",
       "\n",
       "                               originalTitle  isAdult  startYear  endYear  \\\n",
       "0                             Kate & Leopold        0       2001      NaN   \n",
       "1  El Tango del Viudo y Su Espejo Deformante        0       2020      NaN   \n",
       "2                 The Other Side of the Wind        0       2018      NaN   \n",
       "3                          The Naked Monster        0       2005      NaN   \n",
       "4                                 Chief Zabu        0       2016      NaN   \n",
       "\n",
       "   runtimeMinutes                  genres  \n",
       "0             118  Comedy,Fantasy,Romance  \n",
       "1              70                   Drama  \n",
       "2             122                   Drama  \n",
       "3             100    Comedy,Horror,Sci-Fi  \n",
       "4              74                  Comedy  "
      ]
     },
     "execution_count": 50,
     "metadata": {},
     "output_type": "execute_result"
    }
   ],
   "source": [
    "# Open saved file and preview again\n",
    "basics = pd.read_csv(\"Data/title_basics.csv.gz\", low_memory = False)\n",
    "basics.head()"
   ]
  },
  {
   "cell_type": "code",
   "execution_count": null,
   "id": "3087d165",
   "metadata": {},
   "outputs": [],
   "source": []
  }
 ],
 "metadata": {
  "kernelspec": {
   "display_name": "Python (dojo-env)",
   "language": "python",
   "name": "dojo-env"
  },
  "language_info": {
   "codemirror_mode": {
    "name": "ipython",
    "version": 3
   },
   "file_extension": ".py",
   "mimetype": "text/x-python",
   "name": "python",
   "nbconvert_exporter": "python",
   "pygments_lexer": "ipython3",
   "version": "3.8.13"
  },
  "toc": {
   "base_numbering": 1,
   "nav_menu": {},
   "number_sections": false,
   "sideBar": true,
   "skip_h1_title": false,
   "title_cell": "Table of Contents",
   "title_sidebar": "Contents",
   "toc_cell": false,
   "toc_position": {},
   "toc_section_display": true,
   "toc_window_display": false
  }
 },
 "nbformat": 4,
 "nbformat_minor": 5
}
